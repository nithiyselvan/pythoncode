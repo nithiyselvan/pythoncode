{
 "cells": [
  {
   "cell_type": "code",
   "execution_count": 2,
   "metadata": {},
   "outputs": [
    {
     "name": "stdout",
     "output_type": "stream",
     "text": [
      " * Serving Flask app '__main__'\n",
      " * Debug mode: on\n"
     ]
    },
    {
     "name": "stderr",
     "output_type": "stream",
     "text": [
      "WARNING: This is a development server. Do not use it in a production deployment. Use a production WSGI server instead.\n",
      " * Running on http://127.0.0.1:5003\n",
      "Press CTRL+C to quit\n",
      "127.0.0.1 - - [22/Aug/2024 17:43:08] \"GET / HTTP/1.1\" 304 -\n",
      "127.0.0.1 - - [22/Aug/2024 17:43:09] \"GET /favicon.ico HTTP/1.1\" 404 -\n",
      "127.0.0.1 - - [22/Aug/2024 17:43:12] \"POST /chat HTTP/1.1\" 200 -\n",
      "127.0.0.1 - - [22/Aug/2024 17:43:19] \"POST /chat HTTP/1.1\" 200 -\n",
      "127.0.0.1 - - [22/Aug/2024 17:44:22] \"POST /chat HTTP/1.1\" 200 -\n"
     ]
    }
   ],
   "source": [
    "from flask import Flask, request, jsonify, send_file\n",
    "import pyodbc\n",
    "\n",
    "app = Flask(__name__)\n",
    "\n",
    "def get_db_connection():\n",
    "    SERVER = r'DESKTOP-5NV5SJ3\\SQLEXPRESS'\n",
    "    DATABASE = r'nithiy'\n",
    "    conn = pyodbc.connect('DRIVER={SQL Server};SERVER='+SERVER+';DATABASE='+DATABASE+';Trusted_Connection=yes;')\n",
    "    return conn\n",
    "\n",
    "def get_bot_response(user_message):\n",
    "    try:\n",
    "        conn = get_db_connection()\n",
    "        cursor = conn.cursor()\n",
    "        keyword_pattern = f'%{user_message}%'\n",
    "        cursor.execute(\"SELECT Response FROM Responses WHERE Keyword LIKE ?\", (keyword_pattern,))\n",
    "        row = cursor.fetchone()\n",
    "        return row.Response if row else \"I didn't understand that.\"\n",
    "    except pyodbc.Error as e:\n",
    "        print(\"Database error:\", e)\n",
    "        return \"An error occurred.\"\n",
    "    finally:\n",
    "        conn.close()\n",
    "\n",
    "\n",
    "\n",
    "@app.route('/')\n",
    "def index():\n",
    "    return send_file(r'C:\\Users\\Converse\\OneDrive - CONVERSE Data Solutions\\mini project\\index.html')\n",
    "\n",
    "@app.route('/chat', methods=['POST'])\n",
    "def chat():\n",
    "    user_message = request.form['message']\n",
    "    bot_response = get_bot_response(user_message)\n",
    "\n",
    "    # Save the conversation to the database\n",
    "    conn = get_db_connection()\n",
    "    cursor = conn.cursor()\n",
    "    cursor.execute('INSERT INTO ChatHistory (UserMessage, BotResponse) VALUES (?, ?)', (user_message, bot_response))\n",
    "    conn.commit()\n",
    "    conn.close()\n",
    "\n",
    "    return jsonify({'user_message': user_message, 'bot_response': bot_response})\n",
    "\n",
    "if __name__ == '__main__':\n",
    "    app.run(debug=True,port=5003,use_reloader=False)  #\n"
   ]
  },
  {
   "cell_type": "code",
   "execution_count": null,
   "metadata": {},
   "outputs": [],
   "source": []
  }
 ],
 "metadata": {
  "kernelspec": {
   "display_name": "Python 3",
   "language": "python",
   "name": "python3"
  },
  "language_info": {
   "codemirror_mode": {
    "name": "ipython",
    "version": 3
   },
   "file_extension": ".py",
   "mimetype": "text/x-python",
   "name": "python",
   "nbconvert_exporter": "python",
   "pygments_lexer": "ipython3",
   "version": "3.12.4"
  }
 },
 "nbformat": 4,
 "nbformat_minor": 2
}
